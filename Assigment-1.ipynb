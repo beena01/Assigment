{
 "cells": [
  {
   "cell_type": "markdown",
   "metadata": {},
   "source": [
    "Write a program which will find all such numbers which are divisible by 7 but are not a multiple\n",
    "of 5, between 2000 and 3200 (both included). The numbers obtained should be printed in a\n",
    "comma-separated sequence on a single line."
   ]
  },
  {
   "cell_type": "code",
   "execution_count": 18,
   "metadata": {},
   "outputs": [
    {
     "name": "stdout",
     "output_type": "stream",
     "text": [
      "[1999, 2006, 2013, 2027, 2034, 2041, 2048, 2062, 2069, 2076, 2083, 2097, 2104, 2111, 2118, 2132, 2139, 2146, 2153, 2167, 2174, 2181, 2188, 2202, 2209, 2216, 2223, 2237, 2244, 2251, 2258, 2272, 2279, 2286, 2293, 2307, 2314, 2321, 2328, 2342, 2349, 2356, 2363, 2377, 2384, 2391, 2398, 2412, 2419, 2426, 2433, 2447, 2454, 2461, 2468, 2482, 2489, 2496, 2503, 2517, 2524, 2531, 2538, 2552, 2559, 2566, 2573, 2587, 2594, 2601, 2608, 2622, 2629, 2636, 2643, 2657, 2664, 2671, 2678, 2692, 2699, 2706, 2713, 2727, 2734, 2741, 2748, 2762, 2769, 2776, 2783, 2797, 2804, 2811, 2818, 2832, 2839, 2846, 2853, 2867, 2874, 2881, 2888, 2902, 2909, 2916, 2923, 2937, 2944, 2951, 2958, 2972, 2979, 2986, 2993, 3007, 3014, 3021, 3028, 3042, 3049, 3056, 3063, 3077, 3084, 3091, 3098, 3112, 3119, 3126, 3133, 3147, 3154, 3161, 3168, 3182, 3189, 3196]\n"
     ]
    }
   ],
   "source": [
    "Number=[]\n",
    "for i in range(2000,3201,7):\n",
    "    if  (i%5!=0):\n",
    "        Number.append(i)\n",
    "print(Number)\n",
    "    \n"
   ]
  },
  {
   "cell_type": "markdown",
   "metadata": {},
   "source": [
    "Write a Python program to accept the user's first and last name and then getting them printed in\n",
    "the the reverse order with a space between first name and last name."
   ]
  },
  {
   "cell_type": "code",
   "execution_count": 8,
   "metadata": {},
   "outputs": [
    {
     "name": "stdout",
     "output_type": "stream",
     "text": [
      "Type you first name: beena\n",
      "Type you Last name: pattayil\n",
      "pattayil beena\n"
     ]
    }
   ],
   "source": [
    "firstname= input('Type you first name: ')\n",
    "Lastname= input('Type you Last name: ')\n",
    "fullname= Lastname+' '+firstname\n",
    "print(fullname)"
   ]
  },
  {
   "cell_type": "code",
   "execution_count": 9,
   "metadata": {},
   "outputs": [
    {
     "name": "stdout",
     "output_type": "stream",
     "text": [
      "Please provide your full name:beena pattayil\n",
      "liyattap aneeb\n"
     ]
    }
   ],
   "source": [
    "Fullname= input('Please provide your full name:')\n",
    "f=Fullname[::-1]\n",
    "print(f)"
   ]
  },
  {
   "cell_type": "markdown",
   "metadata": {},
   "source": [
    "Write a Python program to find the volume of a sphere with diameter 12 cm.\n",
    "Formula: V=4/3* π * r3"
   ]
  },
  {
   "cell_type": "code",
   "execution_count": 10,
   "metadata": {},
   "outputs": [
    {
     "name": "stdout",
     "output_type": "stream",
     "text": [
      "The volume of the sphere: 904.7786842338603\n"
     ]
    }
   ],
   "source": [
    "pi=3.1415926535897931\n",
    "r=6\n",
    "v=(4/3)*pi*(r**3)\n",
    "print(\"The volume of the sphere: \" + str(v))"
   ]
  },
  {
   "cell_type": "markdown",
   "metadata": {},
   "source": [
    "#Write a program which accepts a sequence of comma-separated numbers from console and\n",
    "generate a list."
   ]
  },
  {
   "cell_type": "code",
   "execution_count": 12,
   "metadata": {},
   "outputs": [
    {
     "name": "stdout",
     "output_type": "stream",
     "text": [
      "please provide comma seperated number1234\n",
      "['1', '2', '3', '4']\n"
     ]
    }
   ],
   "source": [
    "Number=input('please provide comma seperated number')\n",
    "print(list(Number))"
   ]
  },
  {
   "cell_type": "markdown",
   "metadata": {},
   "source": [
    "Create the below pattern using nested for loop in Python.\n",
    "\n",
    "*\n",
    "* *\n",
    "* * *\n",
    "* * * *\n",
    "* * * * *\n",
    "* * * *\n",
    "* * *\n",
    "* *\n",
    "*"
   ]
  },
  {
   "cell_type": "code",
   "execution_count": 70,
   "metadata": {},
   "outputs": [
    {
     "name": "stdout",
     "output_type": "stream",
     "text": [
      " \n",
      "*  \n",
      "* *  \n",
      "* * *  \n",
      "* * * *  \n",
      "* * * * *  \n",
      "* * * *  \n",
      "* * *  \n",
      "* *  \n",
      "*  \n"
     ]
    }
   ],
   "source": [
    "n=5\n",
    "for i in range(n):\n",
    "    for j in range(i):\n",
    "        print('*',end=' ')\n",
    "    print(' ')\n",
    "for i in range(n,0,-1):\n",
    "    for j in range(i):\n",
    "        print('*',end=' ')\n",
    "    print(' ')\n",
    "        "
   ]
  },
  {
   "cell_type": "markdown",
   "metadata": {},
   "source": [
    "Write a Python program to reverse a word after accepting the input from the user.\n",
    "Sample Output:\n",
    "\n",
    "\n",
    "Input word: Ineuron\n",
    "Output: noruenI"
   ]
  },
  {
   "cell_type": "code",
   "execution_count": 37,
   "metadata": {},
   "outputs": [
    {
     "name": "stdout",
     "output_type": "stream",
     "text": [
      "Please provide a word: Ineuron\n",
      "noruenI\n"
     ]
    }
   ],
   "source": [
    "Word=input('Please provide a word: ')\n",
    "print(Word[::-1])"
   ]
  },
  {
   "cell_type": "markdown",
   "metadata": {},
   "source": [
    "Write a Python Program to print the given string in the format specified in the sample output.\n",
    "WE, THE PEOPLE OF INDIA, having solemnly resolved to constitute India into a\n",
    "SOVEREIGN, SOCIALIST, SECULAR, DEMOCRATIC REPUBLIC and to secure to all\n",
    "its citizens\n",
    "Sample Output:\n",
    "WE, THE PEOPLE OF INDIA,\n",
    "    having solemnly resolved to constitute India into a SOVEREIGN, !\n",
    "          SOCIALIST, SECULAR, DEMOCRATIC REPUBLIC\n",
    "            and to secure to all its citizens"
   ]
  },
  {
   "cell_type": "code",
   "execution_count": 55,
   "metadata": {},
   "outputs": [
    {
     "name": "stdout",
     "output_type": "stream",
     "text": [
      "WE, THE PEOPLE OF INDIA,\n",
      "\thaving solemnly resolved to constitute India into a SOVEREIGN! \n",
      "\t\tSOCIALIST, SECULAR, DEMOCRATIC REPUBLIC\n",
      "\t\t\tand to secure to all its citizens\n"
     ]
    }
   ],
   "source": [
    "list=(\"WE, THE PEOPLE OF INDIA,\\n\"+\n",
    "      \"\\thaving solemnly resolved to constitute India into a SOVEREIGN\" + \"! \" +\"\\n\"+\n",
    "      \"\\t\\tSOCIALIST, SECULAR, DEMOCRATIC REPUBLIC\\n\"+\n",
    "       \"\\t\\t\\tand to secure to all its citizens\")\n",
    "print(list)"
   ]
  },
  {
   "cell_type": "code",
   "execution_count": null,
   "metadata": {},
   "outputs": [],
   "source": []
  }
 ],
 "metadata": {
  "kernelspec": {
   "display_name": "Python 3",
   "language": "python",
   "name": "python3"
  },
  "language_info": {
   "codemirror_mode": {
    "name": "ipython",
    "version": 3
   },
   "file_extension": ".py",
   "mimetype": "text/x-python",
   "name": "python",
   "nbconvert_exporter": "python",
   "pygments_lexer": "ipython3",
   "version": "3.7.4"
  }
 },
 "nbformat": 4,
 "nbformat_minor": 2
}
